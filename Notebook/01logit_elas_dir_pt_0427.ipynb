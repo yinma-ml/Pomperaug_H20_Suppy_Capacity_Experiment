{
 "cells": [
  {
   "cell_type": "code",
   "execution_count": 1,
   "metadata": {},
   "outputs": [],
   "source": [
    "# author: Yin \n",
    "\n",
    "# 4 27 2020, change panel identifier from id to csid, get identical results as LG\n",
    "\n",
    "# Three alternatives: sq,a,b; \n",
    "# arc elas are not tested: towndown townmid townup (dummy)\n",
    "# point elas: other variables\n",
    "# 04 04 full dataset\n",
    "# 04 16 test blocks"
   ]
  },
  {
   "cell_type": "code",
   "execution_count": 2,
   "metadata": {},
   "outputs": [],
   "source": [
    "import sys\n",
    "import pandas as pd\n",
    "import biogeme.database as db\n",
    "import biogeme.biogeme as bio\n",
    "import biogeme.models as models\n",
    "import biogeme.results as res\n",
    "from biogeme.expressions import *"
   ]
  },
  {
   "cell_type": "code",
   "execution_count": 3,
   "metadata": {},
   "outputs": [
    {
     "name": "stdout",
     "output_type": "stream",
     "text": [
      "Running 01logit_elas_dir_0427.py...\n"
     ]
    }
   ],
   "source": [
    "print(\"Running 01logit_elas_dir_0427.py...\")"
   ]
  },
  {
   "cell_type": "code",
   "execution_count": 4,
   "metadata": {},
   "outputs": [],
   "source": [
    "# Read the data\n",
    "df = pd.read_csv(\"agree0623_all_0427.csv\")\n",
    "database = db.Database(\"agree0623_all_0427\",df)\n",
    "# They are organized as panel data. The variable ID identifies each individual.\n",
    "database.panel(\"csid\")\n",
    "# use the names of the variable as Python variable.\n",
    "globals().update(database.variables)"
   ]
  },
  {
   "cell_type": "code",
   "execution_count": 5,
   "metadata": {},
   "outputs": [],
   "source": [
    "#exclude=(block1==0)\n",
    "#exclude=(block1==1)\n",
    "\n",
    "#database.remove(exclude)"
   ]
  },
  {
   "cell_type": "code",
   "execution_count": 6,
   "metadata": {},
   "outputs": [
    {
     "name": "stdout",
     "output_type": "stream",
     "text": [
      "7423.735097\n"
     ]
    }
   ],
   "source": [
    "# Normalize the weights\n",
    "sumWeight = database.data['weight'].sum()\n",
    "print(sumWeight) \n",
    "##result=7423.735097, sample size=7414"
   ]
  },
  {
   "cell_type": "code",
   "execution_count": 7,
   "metadata": {},
   "outputs": [],
   "source": [
    "# 3717.76002885, block1 sample size=3713\n",
    "##result=3705.97506815, block2 sample size=3701\n",
    "#normalizedWeight = weight * 3713 / 3717.76002885\n",
    "normalizedWeight = weight * 7414 / 7423.735097\n",
    "# originally weight the whole sample use 1123 cases, \n",
    "# then delete nonresponse for choice questions, and 945 cases are used for logit"
   ]
  },
  {
   "cell_type": "code",
   "execution_count": 8,
   "metadata": {},
   "outputs": [],
   "source": [
    "# Parameters to be estimated, only for continuous variables\n",
    "#NZone variables are already scaled: zone/100\n",
    "#use lg estimates as starting values \n",
    "B_NZONE1 = Beta('B_NZONE1',-0.0682,None,None,0)\n",
    "B_NZONE2 = Beta('B_NZONE2',-0.0372,None,None,0)\n",
    "B_NZONE3 = Beta('B_NZONE3',-0.0283,None,None,0)\n",
    "B_TOWNDOWN = Beta('B_TOWNDOWN',0.0274,None,None,0)\n",
    "B_TOWNMID = Beta('B_TOWNMID',0.11435,None,None,0)\n",
    "B_TOWNUP = Beta('B_TOWNUP',0.205,None,None,0)\n",
    "B_ECO = Beta('B_ECO',0.053,None,None,0)\n",
    "B_REC = Beta('B_REC',0.0089,None,None,0)\n",
    "B_DRY = Beta('B_DRY',-0.2146,None,None,0)\n",
    "B_TAX = Beta('B_TAX',-0.0257,None,None,0)\n"
   ]
  },
  {
   "cell_type": "code",
   "execution_count": 9,
   "metadata": {},
   "outputs": [],
   "source": [
    "# Definition of the utility functions\n",
    "VSQ = B_NZONE1 * nzone1_sq + B_NZONE2 * nzone2_sq + B_NZONE3 * nzone3_sq + B_TOWNDOWN * towndown_sq + B_TOWNMID * townmid_sq + B_TOWNUP * townup_sq + B_ECO * eco_sq + B_REC * rec_sq + B_DRY * dry_sq + B_TAX * tax_sq\n",
    "VA =  B_NZONE1 * nzone1_a + B_NZONE2 * nzone2_a + B_NZONE3 * nzone3_a + B_TOWNDOWN * towndown_a + B_TOWNMID * townmid_a + B_TOWNUP * townup_a + B_ECO * eco_a + B_REC * rec_a + B_DRY * dry_a + B_TAX * tax_a\n",
    "VB =  B_NZONE1 * nzone1_b + B_NZONE2 * nzone2_b + B_NZONE3 * nzone3_b + B_TOWNDOWN * towndown_b + B_TOWNMID * townmid_b + B_TOWNUP * townup_b + B_ECO * eco_b + B_REC * rec_b + B_DRY * dry_b + B_TAX * tax_b"
   ]
  },
  {
   "cell_type": "code",
   "execution_count": 10,
   "metadata": {},
   "outputs": [],
   "source": [
    "# Associate utility functions with the numbering of alternatives\n",
    "V = {1: VSQ,\n",
    "     2: VA,\n",
    "     3: VB}\n",
    "\n",
    "# Associate the availability conditions with the alternatives\n",
    "# all alternatives are available for each individual\n",
    "av = {1: 1,\n",
    "      2: 1,\n",
    "      3: 1}"
   ]
  },
  {
   "cell_type": "code",
   "execution_count": 11,
   "metadata": {},
   "outputs": [],
   "source": [
    "# Definition of the model. This is the contribution of each observation to the log likelihood function.\n",
    "prob_sq = models.logit(V,av,1)\n",
    "prob_a  = models.logit(V,av,2)\n",
    "prob_b  = models.logit(V,av,3)"
   ]
  },
  {
   "cell_type": "code",
   "execution_count": 12,
   "metadata": {},
   "outputs": [],
   "source": [
    "# Calculation of the direct elasticities. \n",
    "# We use the \"Derive\" operator to calculate the derivatives. \n",
    "# alt_sq\n",
    "direct_elas_sq_nzone1_sq = Derive(prob_sq,'nzone1_sq') * nzone1_sq / prob_sq \n",
    "direct_elas_sq_nzone2_sq = Derive(prob_sq,'nzone2_sq') * nzone2_sq / prob_sq \n",
    "direct_elas_sq_nzone3_sq = Derive(prob_sq,'nzone3_sq') * nzone3_sq / prob_sq \n",
    "\n",
    "direct_elas_sq_eco_sq = Derive(prob_sq,'eco_sq') * eco_sq / prob_sq \n",
    "direct_elas_sq_rec_sq = Derive(prob_sq,'rec_sq') * rec_sq / prob_sq \n",
    "direct_elas_sq_dry_sq = Derive(prob_sq,'dry_sq') * dry_sq / prob_sq \n",
    "direct_elas_sq_tax_sq = Derive(prob_sq,'tax_sq') * tax_sq / prob_sq \n",
    "\n",
    "# alt_a\n",
    "direct_elas_a_nzone1_a = Derive(prob_a,'nzone1_a') * nzone1_a / prob_a \n",
    "direct_elas_a_nzone2_a = Derive(prob_a,'nzone2_a') * nzone2_a / prob_a \n",
    "direct_elas_a_nzone3_a = Derive(prob_a,'nzone3_a') * nzone3_a / prob_a \n",
    "\n",
    "direct_elas_a_eco_a = Derive(prob_a,'eco_a') * eco_a / prob_a \n",
    "direct_elas_a_rec_a = Derive(prob_a,'rec_a') * rec_a / prob_a \n",
    "direct_elas_a_dry_a = Derive(prob_a,'dry_a') * dry_a / prob_a \n",
    "direct_elas_a_tax_a = Derive(prob_a,'tax_a') * tax_a / prob_a\n",
    "\n",
    "# alt_b\n",
    "direct_elas_b_nzone1_b = Derive(prob_b,'nzone1_b') * nzone1_b / prob_b \n",
    "direct_elas_b_nzone2_b = Derive(prob_b,'nzone2_b') * nzone2_b / prob_b \n",
    "direct_elas_b_nzone3_b = Derive(prob_b,'nzone3_b') * nzone3_b / prob_b \n",
    "\n",
    "direct_elas_b_eco_b = Derive(prob_b,'eco_b') * eco_b / prob_b \n",
    "direct_elas_b_rec_b = Derive(prob_b,'rec_b') * rec_b / prob_b \n",
    "direct_elas_b_dry_b = Derive(prob_b,'dry_b') * dry_b / prob_b \n",
    "direct_elas_b_tax_b = Derive(prob_b,'tax_b') * tax_b / prob_b\n"
   ]
  },
  {
   "cell_type": "code",
   "execution_count": 13,
   "metadata": {},
   "outputs": [],
   "source": [
    "simulate = {'nweight': normalizedWeight,\n",
    "            'Prob. No Action': prob_sq,\n",
    "            'Prob. Plan A': prob_a,\n",
    "            'Prob. Plan B':prob_b,\n",
    "            'direct_elas_sq_nzone1_sq':direct_elas_sq_nzone1_sq,\n",
    "            'direct_elas_sq_nzone2_sq':direct_elas_sq_nzone2_sq,\n",
    "            'direct_elas_sq_nzone3_sq':direct_elas_sq_nzone3_sq,\n",
    "            'direct_elas_sq_eco_sq':direct_elas_sq_eco_sq,\n",
    "            'direct_elas_sq_rec_sq':direct_elas_sq_rec_sq,\n",
    "            'direct_elas_sq_dry_sq':direct_elas_sq_dry_sq,\n",
    "            'direct_elas_sq_tax_sq':direct_elas_sq_tax_sq,\n",
    "            'direct_elas_a_nzone1_a':direct_elas_a_nzone1_a,\n",
    "            'direct_elas_a_nzone2_a':direct_elas_a_nzone2_a,\n",
    "            'direct_elas_a_nzone3_a':direct_elas_a_nzone3_a,\n",
    "            'direct_elas_a_eco_a':direct_elas_a_eco_a,\n",
    "            'direct_elas_a_rec_a':direct_elas_a_rec_a,\n",
    "            'direct_elas_a_dry_a':direct_elas_a_dry_a,\n",
    "            'direct_elas_a_tax_a':direct_elas_a_tax_a,\n",
    "            'direct_elas_b_nzone1_b':direct_elas_b_nzone1_b,\n",
    "            'direct_elas_b_nzone2_b':direct_elas_b_nzone2_b,\n",
    "            'direct_elas_b_nzone3_b':direct_elas_b_nzone3_b,\n",
    "            'direct_elas_b_eco_b':direct_elas_b_eco_b,\n",
    "            'direct_elas_b_rec_b':direct_elas_b_rec_b,\n",
    "            'direct_elas_b_dry_b':direct_elas_b_dry_b,\n",
    "            'direct_elas_b_tax_b':direct_elas_b_tax_b}\n"
   ]
  },
  {
   "cell_type": "code",
   "execution_count": 14,
   "metadata": {},
   "outputs": [],
   "source": [
    "biogeme  = bio.BIOGEME(database,simulate)\n",
    "biogeme.modelName = \"01logit_elas_dir_pt_0427\""
   ]
  },
  {
   "cell_type": "code",
   "execution_count": 15,
   "metadata": {},
   "outputs": [],
   "source": [
    "# Retrieve the values of the parameters\n",
    "# First, extract the names of parameters needed for the simulation\n",
    "betas = biogeme.freeBetaNames\n",
    "\n",
    "# Read the estimation results from the file\n",
    "results = res.bioResults(pickleFile='01logit_0427.pickle')\n",
    "\n",
    "# Extract the values that are necessary\n",
    "betaValues = results.getBetaValues(betas)\n",
    "\n",
    "# simulatedValues is a Panda dataframe with the same number of rows as the database, and as many columns as formulas to simulate.\n",
    "# simulate the formulas using the nomial values\n",
    "simulatedValues = biogeme.simulate(betaValues)"
   ]
  },
  {
   "cell_type": "code",
   "execution_count": 16,
   "metadata": {},
   "outputs": [],
   "source": [
    "# We calculate the weighted probabilitie\n",
    "simulatedValues['Weighted Prob. No Action'] = simulatedValues['nweight'] * simulatedValues['Prob. No Action']\n",
    "\n",
    "simulatedValues['Weighted Prob. Plan A'] = simulatedValues['nweight'] * simulatedValues['Prob. Plan A']\n",
    "\n",
    "simulatedValues['Weighted Prob. Plan B'] = simulatedValues['nweight'] * simulatedValues['Prob. Plan B']\n"
   ]
  },
  {
   "cell_type": "code",
   "execution_count": 17,
   "metadata": {},
   "outputs": [],
   "source": [
    "denominator_sq = simulatedValues['Weighted Prob. No Action'].sum()\n",
    "denominator_a  = simulatedValues['Weighted Prob. Plan A'].sum()\n",
    "denominator_b  = simulatedValues['Weighted Prob. Plan B'].sum()"
   ]
  },
  {
   "cell_type": "code",
   "execution_count": 18,
   "metadata": {},
   "outputs": [
    {
     "name": "stdout",
     "output_type": "stream",
     "text": [
      "Aggregate direct elasticity of sq wrt nzone1_sq: -0.747\n",
      "Aggregate direct elasticity of sq wrt nzone2_sq: -0.363\n",
      "Aggregate direct elasticity of sq wrt nzone3_sq: -0.424\n",
      "Aggregate direct elasticity of sq wrt eco_sq: 1.18\n",
      "Aggregate direct elasticity of sq wrt rec_sq: 0.284\n",
      "Aggregate direct elasticity of sq wrt dry_sq: -0.34\n",
      "Aggregate direct elasticity of sq wrt tax_sq: 0\n",
      "Aggregate direct elasticity of a wrt nzone1_a: -0.349\n",
      "Aggregate direct elasticity of a wrt nzone2_a: -0.249\n",
      "Aggregate direct elasticity of a wrt nzone3_a: -0.322\n",
      "Aggregate direct elasticity of a wrt eco_a: 1.02\n",
      "Aggregate direct elasticity of a wrt rec_a: 0.346\n",
      "Aggregate direct elasticity of a wrt dry_a: -0.167\n",
      "Aggregate direct elasticity of a wrt tax_a: -0.226\n",
      "Aggregate direct elasticity of b wrt nzone1_b: -0.412\n",
      "Aggregate direct elasticity of b wrt nzone2_b: -0.266\n",
      "Aggregate direct elasticity of b wrt nzone3_b: -0.34\n",
      "Aggregate direct elasticity of b wrt eco_b: 1.1\n",
      "Aggregate direct elasticity of b wrt rec_b: 0.318\n",
      "Aggregate direct elasticity of b wrt dry_b: -0.174\n",
      "Aggregate direct elasticity of b wrt tax_b: -0.2\n"
     ]
    }
   ],
   "source": [
    "# aggregate elasticities_sq\n",
    "# function=sum(E*Weighted prob/sum(weighted prob))\n",
    "direct_elas_term_sq_nzone1_sq = (simulatedValues['Weighted Prob. No Action']\n",
    "  * simulatedValues['direct_elas_sq_nzone1_sq'] / denominator_sq).sum()\n",
    "print(f\"Aggregate direct elasticity of sq wrt nzone1_sq: {direct_elas_term_sq_nzone1_sq:.3g}\")\n",
    "direct_elas_term_sq_nzone2_sq = (simulatedValues['Weighted Prob. No Action']\n",
    "  * simulatedValues['direct_elas_sq_nzone2_sq'] / denominator_sq).sum()\n",
    "print(f\"Aggregate direct elasticity of sq wrt nzone2_sq: {direct_elas_term_sq_nzone2_sq:.3g}\")\n",
    "direct_elas_term_sq_nzone3_sq = (simulatedValues['Weighted Prob. No Action']\n",
    "  * simulatedValues['direct_elas_sq_nzone3_sq'] / denominator_sq).sum()\n",
    "print(f\"Aggregate direct elasticity of sq wrt nzone3_sq: {direct_elas_term_sq_nzone3_sq:.3g}\")\n",
    "\n",
    "direct_elas_term_sq_eco_sq = (simulatedValues['Weighted Prob. No Action']\n",
    "  * simulatedValues['direct_elas_sq_eco_sq'] / denominator_sq).sum()\n",
    "print(f\"Aggregate direct elasticity of sq wrt eco_sq: {direct_elas_term_sq_eco_sq:.3g}\")\n",
    "direct_elas_term_sq_rec_sq = (simulatedValues['Weighted Prob. No Action']\n",
    "  * simulatedValues['direct_elas_sq_rec_sq'] / denominator_sq).sum()\n",
    "print(f\"Aggregate direct elasticity of sq wrt rec_sq: {direct_elas_term_sq_rec_sq:.3g}\")\n",
    "direct_elas_term_sq_dry_sq = (simulatedValues['Weighted Prob. No Action']\n",
    "  * simulatedValues['direct_elas_sq_dry_sq'] / denominator_sq).sum()\n",
    "print(f\"Aggregate direct elasticity of sq wrt dry_sq: {direct_elas_term_sq_dry_sq:.3g}\")\n",
    "\n",
    "direct_elas_term_sq_tax_sq = (simulatedValues['Weighted Prob. No Action']\n",
    "  * simulatedValues['direct_elas_sq_tax_sq'] / denominator_sq).sum()\n",
    "print(f\"Aggregate direct elasticity of sq wrt tax_sq: {direct_elas_term_sq_tax_sq:.3g}\")\n",
    "\n",
    "\n",
    "# aggregate elasticities_a\n",
    "direct_elas_term_a_nzone1_a = (simulatedValues['Weighted Prob. Plan A']\n",
    "  * simulatedValues['direct_elas_a_nzone1_a'] / denominator_a).sum()\n",
    "print(f\"Aggregate direct elasticity of a wrt nzone1_a: {direct_elas_term_a_nzone1_a:.3g}\")\n",
    "direct_elas_term_a_nzone2_a = (simulatedValues['Weighted Prob. Plan A']\n",
    "  * simulatedValues['direct_elas_a_nzone2_a'] / denominator_a).sum()\n",
    "print(f\"Aggregate direct elasticity of a wrt nzone2_a: {direct_elas_term_a_nzone2_a:.3g}\")\n",
    "direct_elas_term_a_nzone3_a = (simulatedValues['Weighted Prob. Plan A']\n",
    "  * simulatedValues['direct_elas_a_nzone3_a'] / denominator_a).sum()\n",
    "print(f\"Aggregate direct elasticity of a wrt nzone3_a: {direct_elas_term_a_nzone3_a:.3g}\")\n",
    "\n",
    "direct_elas_term_a_eco_a = (simulatedValues['Weighted Prob. Plan A']\n",
    "  * simulatedValues['direct_elas_a_eco_a'] / denominator_a).sum()\n",
    "print(f\"Aggregate direct elasticity of a wrt eco_a: {direct_elas_term_a_eco_a:.3g}\")\n",
    "direct_elas_term_a_rec_a = (simulatedValues['Weighted Prob. Plan A']\n",
    "  * simulatedValues['direct_elas_a_rec_a'] / denominator_a).sum()\n",
    "print(f\"Aggregate direct elasticity of a wrt rec_a: {direct_elas_term_a_rec_a:.3g}\")\n",
    "direct_elas_term_a_dry_a = (simulatedValues['Weighted Prob. Plan A']\n",
    "  * simulatedValues['direct_elas_a_dry_a'] / denominator_a).sum()\n",
    "print(f\"Aggregate direct elasticity of a wrt dry_a: {direct_elas_term_a_dry_a:.3g}\")\n",
    "\n",
    "direct_elas_term_a_tax_a = (simulatedValues['Weighted Prob. Plan A']\n",
    "  * simulatedValues['direct_elas_a_tax_a'] / denominator_a).sum()\n",
    "print(f\"Aggregate direct elasticity of a wrt tax_a: {direct_elas_term_a_tax_a:.3g}\")\n",
    "\n",
    "\n",
    "# aggregate elasticities_b\n",
    "direct_elas_term_b_nzone1_b = (simulatedValues['Weighted Prob. Plan B']\n",
    "  * simulatedValues['direct_elas_b_nzone1_b'] / denominator_b).sum()\n",
    "print(f\"Aggregate direct elasticity of b wrt nzone1_b: {direct_elas_term_b_nzone1_b:.3g}\")\n",
    "direct_elas_term_b_nzone2_b = (simulatedValues['Weighted Prob. Plan B']\n",
    "  * simulatedValues['direct_elas_b_nzone2_b'] / denominator_b).sum()\n",
    "print(f\"Aggregate direct elasticity of b wrt nzone2_b: {direct_elas_term_b_nzone2_b:.3g}\")\n",
    "direct_elas_term_b_nzone3_b = (simulatedValues['Weighted Prob. Plan B']\n",
    "  * simulatedValues['direct_elas_b_nzone3_b'] / denominator_b).sum()\n",
    "print(f\"Aggregate direct elasticity of b wrt nzone3_b: {direct_elas_term_b_nzone3_b:.3g}\")\n",
    "\n",
    "direct_elas_term_b_eco_b = (simulatedValues['Weighted Prob. Plan B']\n",
    "  * simulatedValues['direct_elas_b_eco_b'] / denominator_b).sum()\n",
    "print(f\"Aggregate direct elasticity of b wrt eco_b: {direct_elas_term_b_eco_b:.3g}\")\n",
    "direct_elas_term_b_rec_b = (simulatedValues['Weighted Prob. Plan B']\n",
    "  * simulatedValues['direct_elas_b_rec_b'] / denominator_b).sum()\n",
    "print(f\"Aggregate direct elasticity of b wrt rec_b: {direct_elas_term_b_rec_b:.3g}\")\n",
    "direct_elas_term_b_dry_b = (simulatedValues['Weighted Prob. Plan B']\n",
    "  * simulatedValues['direct_elas_b_dry_b'] / denominator_b).sum()\n",
    "print(f\"Aggregate direct elasticity of b wrt dry_b: {direct_elas_term_b_dry_b:.3g}\")\n",
    "\n",
    "direct_elas_term_b_tax_b = (simulatedValues['Weighted Prob. Plan B']\n",
    "  * simulatedValues['direct_elas_b_tax_b'] / denominator_b).sum()\n",
    "print(f\"Aggregate direct elasticity of b wrt tax_b: {direct_elas_term_b_tax_b:.3g}\")\n",
    "\n"
   ]
  }
 ],
 "metadata": {
  "kernelspec": {
   "display_name": "Python 3",
   "language": "python",
   "name": "python3"
  },
  "language_info": {
   "codemirror_mode": {
    "name": "ipython",
    "version": 3
   },
   "file_extension": ".py",
   "mimetype": "text/x-python",
   "name": "python",
   "nbconvert_exporter": "python",
   "pygments_lexer": "ipython3",
   "version": "3.7.4"
  }
 },
 "nbformat": 4,
 "nbformat_minor": 2
}
