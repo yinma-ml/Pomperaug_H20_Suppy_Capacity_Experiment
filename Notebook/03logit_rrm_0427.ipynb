{
 "cells": [
  {
   "cell_type": "code",
   "execution_count": 1,
   "metadata": {},
   "outputs": [],
   "source": [
    "# author: Yin \n",
    "#4 27 2020, change panel identifier from id to csid, get identical results as LG\n",
    "# RRM with panel data\n",
    "# Three alternatives: sq,a,b; \n",
    "\n",
    "#further test with different mu values mu=10,or mu=1, mu=0.1, and test with covariates"
   ]
  },
  {
   "cell_type": "code",
   "execution_count": 2,
   "metadata": {},
   "outputs": [],
   "source": [
    "import sys\n",
    "import pandas as pd\n",
    "import biogeme.database as db\n",
    "import biogeme.biogeme as bio\n",
    "import biogeme.models as models\n",
    "import biogeme.results as res\n",
    "from biogeme.expressions import *\n"
   ]
  },
  {
   "cell_type": "code",
   "execution_count": 3,
   "metadata": {},
   "outputs": [],
   "source": [
    "#Calculating confidence intervals for elasticities requires interval arithmetics \n",
    "#pip install python-intervals in anaconda prompt\n",
    "#in case python-intervals doesn't work, also install a newer version \"portion\"\n",
    "\n",
    "import portion as p\n",
    "import intervals as ivs\n",
    "import interval as iv"
   ]
  },
  {
   "cell_type": "code",
   "execution_count": 4,
   "metadata": {},
   "outputs": [
    {
     "name": "stdout",
     "output_type": "stream",
     "text": [
      "Running 03logit_rrm_0427.py...\n"
     ]
    }
   ],
   "source": [
    "print(\"Running 03logit_rrm_0427.py...\")"
   ]
  },
  {
   "cell_type": "code",
   "execution_count": 5,
   "metadata": {},
   "outputs": [],
   "source": [
    "# Read the data\n",
    "df = pd.read_csv(\"agree0623_all_0427.csv\")\n",
    "database = db.Database(\"agree0623_all_0427\",df)\n",
    "# They are organized as panel data. The variable ID identifies each individual.\n",
    "database.panel(\"csid\")\n",
    "# use the names of the variable as Python variable.\n",
    "globals().update(database.variables)"
   ]
  },
  {
   "cell_type": "markdown",
   "metadata": {},
   "source": [
    "# Normalize the weights\n",
    "sumWeight = database.data['weight'].sum()\n",
    "print(sumWeight) \n",
    "##result=7423.735097, sample size=7414"
   ]
  },
  {
   "cell_type": "markdown",
   "metadata": {},
   "source": [
    "normalizedWeight = weight * 7414 / 7423.735097\n",
    "# originally weight the whole sample use 1123 cases, \n",
    "# then delete nonresponse for choice questions, and 945 cases are used for logit"
   ]
  },
  {
   "cell_type": "code",
   "execution_count": 6,
   "metadata": {},
   "outputs": [],
   "source": [
    "# Parameters to be estimated \n",
    "#NZone variables are already scaled: zone/100\n",
    "#use 0427 biogeme rum estimates as starting values \n",
    "B_NZONE1 = Beta('B_NZONE1',-0.0682,None,None,0)\n",
    "B_NZONE2 = Beta('B_NZONE2',-0.0372,None,None,0)\n",
    "B_NZONE3 = Beta('B_NZONE3',-0.0283,None,None,0)\n",
    "B_TOWNDOWN = Beta('B_TOWNDOWN',0.0273,None,None,0)\n",
    "B_TOWNMID = Beta('B_TOWNMID',0.114,None,None,0)\n",
    "B_TOWNUP = Beta('B_TOWNUP',0.205,None,None,0)\n",
    "B_ECO = Beta('B_ECO',0.053,None,None,0)\n",
    "B_REC = Beta('B_REC',0.00895,None,None,0)\n",
    "B_DRY = Beta('B_DRY',-0.215,None,None,0)\n",
    "B_TAX = Beta('B_TAX',-0.0257,None,None,0)\n",
    "# mu\n",
    "mu    = Beta('mu',0.1,0,10,0)"
   ]
  },
  {
   "cell_type": "code",
   "execution_count": 7,
   "metadata": {},
   "outputs": [],
   "source": [
    "# Definition of the utility functions\n",
    "RSQ = mu * (log( 1 + exp((B_NZONE1/mu) * (nzone1_a-nzone1_sq))) + log(1 + exp((B_NZONE1/mu ) * (nzone1_b-nzone1_sq))) + log(1 + exp((B_NZONE2/mu) * (nzone2_a-nzone2_sq))) + log(1 + exp((B_NZONE2 / mu ) * (nzone2_b-nzone2_sq))) + log(1 + exp((B_NZONE3 / mu ) * (nzone3_a-nzone3_sq))) + log(1 + exp((B_NZONE3 / mu ) * (nzone3_b-nzone3_sq))) + log( 1 + exp((B_TOWNDOWN / mu ) * (towndown_a-towndown_sq))) + log(1 + exp((B_TOWNDOWN / mu ) * (towndown_b-towndown_sq)))  + log(1 + exp((B_TOWNMID / mu ) * (townmid_a-townmid_sq))) + log(1 + exp((B_TOWNMID / mu ) * (townmid_b-townmid_sq))) + log(1 + exp((B_TOWNUP / mu ) * (townup_a-townup_sq))) + log(1 + exp((B_TOWNUP / mu ) * (townup_b-townup_sq))) + log( 1 + exp((B_ECO / mu ) * (eco_a-eco_sq))) + log(1 + exp((B_ECO / mu ) * (eco_b-eco_sq))) + log(1 + exp((B_REC / mu ) * (rec_a-rec_sq))) + log(1 + exp((B_REC / mu ) * (rec_b-rec_sq))) + log(1 + exp((B_DRY / mu ) * (dry_a-dry_sq))) + log(1 + exp((B_DRY / mu ) * (dry_b-dry_sq))) + log(1 + exp((B_TAX / mu ) * (tax_a-tax_sq))) + log(1 + exp((B_TAX / mu ) * (tax_b-tax_sq))))                                                \n",
    "          \n",
    "RA  = mu * (log( 1 + exp((B_NZONE1/mu) * (nzone1_sq-nzone1_a))) + log(1 + exp((B_NZONE1/mu ) * (nzone1_b-nzone1_a))) + log(1 + exp((B_NZONE2/mu) * (nzone2_sq-nzone2_a))) + log(1 + exp((B_NZONE2 / mu ) * (nzone2_b-nzone2_a))) + log(1 + exp((B_NZONE3 / mu ) * (nzone3_sq-nzone3_a))) + log(1 + exp((B_NZONE3 / mu ) * (nzone3_b-nzone3_a))) + log( 1 + exp((B_TOWNDOWN / mu ) * (towndown_sq-towndown_a))) + log(1 + exp((B_TOWNDOWN / mu ) * (towndown_b-towndown_a))) + log(1 + exp((B_TOWNMID / mu ) * (townmid_sq-townmid_a))) + log(1 + exp((B_TOWNMID / mu ) * (townmid_b-townmid_a))) + log(1 + exp((B_TOWNUP / mu ) * (townup_sq-townup_a))) + log(1 + exp((B_TOWNUP / mu ) * (townup_b-townup_a))) + log( 1 + exp((B_ECO / mu ) * (eco_sq-eco_a))) + log(1 + exp((B_ECO / mu ) * (eco_b-eco_a))) + log(1 + exp((B_REC / mu ) * (rec_sq-rec_a))) + log(1 + exp((B_REC / mu ) * (rec_b-rec_a))) + log(1 + exp((B_DRY / mu ) * (dry_sq-dry_a))) + log(1 + exp((B_DRY / mu ) * (dry_b-dry_a))) + log(1 + exp((B_TAX / mu ) * (tax_sq-tax_a))) + log(1 + exp((B_TAX / mu ) * (tax_b-tax_a))))   \n",
    "           \n",
    "RB  = mu * (log( 1 + exp((B_NZONE1/mu) * (nzone1_sq-nzone1_b))) + log(1 + exp((B_NZONE1/mu ) * (nzone1_a-nzone1_b))) + log(1 + exp((B_NZONE2/mu) * (nzone2_sq-nzone2_b))) + log(1 + exp((B_NZONE2 / mu ) * (nzone2_a-nzone2_b))) + log(1 + exp((B_NZONE3 / mu ) * (nzone3_sq-nzone3_b))) + log(1 + exp((B_NZONE3 / mu ) * (nzone3_a-nzone3_b))) + log( 1 + exp((B_TOWNDOWN / mu ) * (towndown_sq-towndown_b))) + log(1 + exp((B_TOWNDOWN / mu ) * (towndown_a-towndown_b))) + log(1 + exp((B_TOWNMID / mu ) * (townmid_sq-townmid_b))) + log(1 + exp((B_TOWNMID / mu ) * (townmid_a-townmid_b))) + log(1 + exp((B_TOWNUP / mu ) * (townup_sq-townup_b))) + log(1 + exp((B_TOWNUP / mu ) * (townup_a-townup_b))) + log( 1 + exp((B_ECO / mu ) * (eco_sq-eco_b))) + log(1 + exp((B_ECO / mu ) * (eco_a-eco_b))) + log(1 + exp((B_REC / mu ) * (rec_sq-rec_b))) + log(1 + exp((B_REC / mu ) * (rec_a-rec_b))) + log(1 + exp((B_DRY / mu ) * (dry_sq-dry_b))) + log(1 + exp((B_DRY / mu ) * (dry_a-dry_b))) + log(1 + exp((B_TAX / mu ) * (tax_sq-tax_b))) + log(1 + exp((B_TAX / mu ) * (tax_a-tax_b))))   "
   ]
  },
  {
   "cell_type": "code",
   "execution_count": 8,
   "metadata": {},
   "outputs": [],
   "source": [
    "# Associate utility functions with the numbering of alternatives\n",
    "V = {1: -RSQ,\n",
    "     2: -RA,\n",
    "     3: -RB}\n",
    "\n",
    "# Associate the availability conditions with the alternatives\n",
    "# all alternatives are available for each individual\n",
    "av = {1: 1,\n",
    "      2: 1,\n",
    "      3: 1}"
   ]
  },
  {
   "cell_type": "code",
   "execution_count": 9,
   "metadata": {},
   "outputs": [],
   "source": [
    "# Definition of the model. This is the contribution of each observation to the log likelihood function.\n",
    "logprob = models.loglogit(V,av,choice)\n",
    "biogeme  = bio.BIOGEME(database,logprob)\n",
    "biogeme.modelName = \"03logit_rrm_0428\""
   ]
  },
  {
   "cell_type": "code",
   "execution_count": 10,
   "metadata": {},
   "outputs": [
    {
     "name": "stdout",
     "output_type": "stream",
     "text": [
      "               Value    Std err     t-test       p-value  Rob. Std err  \\\n",
      "B_DRY      -0.142453   0.018803  -7.576234  3.552714e-14      0.018724   \n",
      "B_ECO       0.035448   0.002045  17.333697  0.000000e+00      0.001989   \n",
      "B_NZONE1   -0.045550   0.004159 -10.951070  0.000000e+00      0.004167   \n",
      "B_NZONE2   -0.024696   0.005351  -4.615094  3.929172e-06      0.005344   \n",
      "B_NZONE3   -0.018939   0.005494  -3.447566  5.656624e-04      0.005492   \n",
      "B_REC       0.005956   0.000529  11.259838  0.000000e+00      0.000528   \n",
      "B_TAX      -0.017001   0.001638 -10.379726  0.000000e+00      0.001550   \n",
      "B_TOWNDOWN  0.017289   0.027762   0.622736  5.334582e-01      0.027721   \n",
      "B_TOWNMID   0.075533   0.027023   2.795179  5.187105e-03      0.026814   \n",
      "B_TOWNUP    0.136175   0.029943   4.547753  5.422169e-06      0.029674   \n",
      "mu          5.514086  41.897004   0.131611  8.952924e-01     38.006585   \n",
      "\n",
      "            Rob. t-test  Rob. p-value  \n",
      "B_DRY         -7.608047  2.775558e-14  \n",
      "B_ECO         17.824455  0.000000e+00  \n",
      "B_NZONE1     -10.930154  0.000000e+00  \n",
      "B_NZONE2      -4.620949  3.819884e-06  \n",
      "B_NZONE3      -3.448557  5.635909e-04  \n",
      "B_REC         11.279444  0.000000e+00  \n",
      "B_TAX        -10.969053  0.000000e+00  \n",
      "B_TOWNDOWN     0.623669  5.328452e-01  \n",
      "B_TOWNMID      2.816941  4.848344e-03  \n",
      "B_TOWNUP       4.589000  4.453739e-06  \n",
      "mu             0.145082  8.846458e-01  \n",
      "Results= \n",
      "Results for model [03logit_rrm_0428]\n",
      "Output file (HTML):\t\t\t03logit_rrm_0428~00.html\n",
      "Nbr of parameters:\t\t11\n",
      "Sample size:\t\t\t7414\n",
      "Excluded data:\t\t\t0\n",
      "Init log likelihood:\t\t-7750.581\n",
      "Final log likelihood:\t\t-7614.58\n",
      "Likelihood ratio test:\t\t272.0033\n",
      "Rho square:\t\t\t0.0175\n",
      "Rho bar square:\t\t\t0.0161\n",
      "Akaike Information Criterion:\t15251.16\n",
      "Bayesian Information Criterion:\t15327.18\n",
      "Final gradient norm:\t\t0.005725658\n",
      "B_DRY          : -0.142[0.0188 -7.58 3.55e-14][0.0187 -7.61 2.78e-14]\n",
      "B_ECO          : 0.0354[0.00205 17.3 0][0.00199 17.8 0]\n",
      "B_NZONE1       : -0.0456[0.00416 -11 0][0.00417 -10.9 0]\n",
      "B_NZONE2       : -0.0247[0.00535 -4.62 3.93e-06][0.00534 -4.62 3.82e-06]\n",
      "B_NZONE3       : -0.0189[0.00549 -3.45 0.000566][0.00549 -3.45 0.000564]\n",
      "B_REC          : 0.00596[0.000529 11.3 0][0.000528 11.3 0]\n",
      "B_TAX          : -0.017[0.00164 -10.4 0][0.00155 -11 0]\n",
      "B_TOWNDOWN     : 0.0173[0.0278 0.623 0.533][0.0277 0.624 0.533]\n",
      "B_TOWNMID      : 0.0755[0.027 2.8 0.00519][0.0268 2.82 0.00485]\n",
      "B_TOWNUP       : 0.136[0.0299 4.55 5.42e-06][0.0297 4.59 4.45e-06]\n",
      "mu             : 5.51[41.9 0.132 0.895][38 0.145 0.885]\n",
      "('B_ECO', 'B_DRY'):\t-1.65e-06\t-0.0429\t9.36\t0\t-3.7e-06\t-0.0993\t9.35\t0\n",
      "('B_NZONE1', 'B_DRY'):\t-8.4e-06\t-0.107\t4.92\t8.57e-07\t-8.05e-06\t-0.103\t4.94\t7.63e-07\n",
      "('B_NZONE1', 'B_ECO'):\t1.05e-06\t0.123\t-18.4\t0\t8.42e-07\t0.102\t-18.3\t0\n",
      "('B_NZONE2', 'B_DRY'):\t7.17e-06\t0.0713\t6.14\t8.26e-10\t6.32e-06\t0.0631\t6.15\t7.71e-10\n",
      "('B_NZONE2', 'B_ECO'):\t2.68e-07\t0.0245\t-10.6\t0\t2.74e-08\t0.00258\t-10.6\t0\n",
      "('B_NZONE2', 'B_NZONE1'):\t5.3e-06\t0.238\t3.51\t0.000452\t5.12e-06\t0.23\t3.49\t0.000481\n",
      "('B_NZONE3', 'B_DRY'):\t-1.29e-05\t-0.125\t6.1\t1.04e-09\t-1.09e-05\t-0.106\t6.16\t7.48e-10\n",
      "('B_NZONE3', 'B_ECO'):\t-2.23e-07\t-0.0198\t-9.22\t0\t-2.95e-07\t-0.027\t-9.23\t0\n",
      "('B_NZONE3', 'B_NZONE1'):\t7.72e-06\t0.338\t4.7\t2.58e-06\t7.52e-06\t0.329\t4.67\t3.03e-06\n",
      "('B_NZONE3', 'B_NZONE2'):\t2.76e-06\t0.094\t0.789\t0.43\t2.77e-06\t0.0942\t0.789\t0.43\n",
      "('B_REC', 'B_DRY'):\t-2.57e-06\t-0.259\t7.83\t4.66e-15\t-2.63e-06\t-0.266\t7.86\t3.77e-15\n",
      "('B_REC', 'B_ECO'):\t3.9e-07\t0.36\t-15.4\t0\t4.18e-07\t0.398\t-16\t0\n",
      "('B_REC', 'B_NZONE1'):\t7.39e-07\t0.336\t12.8\t0\t7.4e-07\t0.336\t12.8\t0\n",
      "('B_REC', 'B_NZONE2'):\t-5.42e-08\t-0.0192\t5.69\t1.27e-08\t-1.48e-08\t-0.00523\t5.7\t1.17e-08\n",
      "('B_REC', 'B_NZONE3'):\t4.14e-07\t0.142\t4.57\t4.8e-06\t3.47e-07\t0.12\t4.56\t5e-06\n",
      "('B_TAX', 'B_DRY'):\t1.55e-05\t0.503\t6.96\t3.5e-12\t1.44e-05\t0.496\t6.97\t3.23e-12\n",
      "('B_TAX', 'B_ECO'):\t-1.82e-07\t-0.0544\t-19.5\t0\t-5.38e-07\t-0.175\t-19.2\t0\n",
      "('B_TAX', 'B_NZONE1'):\t-1.61e-07\t-0.0236\t6.34\t2.37e-10\t-2.05e-07\t-0.0317\t6.36\t2.08e-10\n",
      "('B_TAX', 'B_NZONE2'):\t1.98e-06\t0.226\t1.47\t0.141\t1.81e-06\t0.218\t1.47\t0.141\n",
      "('B_TAX', 'B_NZONE3'):\t-1.8e-06\t-0.2\t0.321\t0.748\t-1.68e-06\t-0.197\t0.323\t0.746\n",
      "('B_TAX', 'B_REC'):\t-3.47e-07\t-0.401\t-12\t0\t-3.29e-07\t-0.402\t-12.6\t0\n",
      "('B_TOWNDOWN', 'B_DRY'):\t-7.13e-06\t-0.0137\t4.73\t2.2e-06\t4.51e-06\t0.00869\t4.79\t1.63e-06\n",
      "('B_TOWNDOWN', 'B_ECO'):\t-9.06e-06\t-0.16\t-0.645\t0.519\t-7.05e-06\t-0.128\t-0.648\t0.517\n",
      "('B_TOWNDOWN', 'B_NZONE1'):\t2.69e-05\t0.233\t2.32\t0.0204\t2.7e-05\t0.233\t2.32\t0.0202\n",
      "('B_TOWNDOWN', 'B_NZONE2'):\t-1.19e-05\t-0.0803\t1.46\t0.143\t-1.2e-05\t-0.0807\t1.47\t0.143\n",
      "('B_TOWNDOWN', 'B_NZONE3'):\t-1.37e-06\t-0.00896\t1.28\t0.201\t-4.3e-06\t-0.0283\t1.28\t0.202\n",
      "('B_TOWNDOWN', 'B_REC'):\t-1.1e-06\t-0.0749\t0.408\t0.684\t-1.08e-06\t-0.0737\t0.408\t0.683\n",
      "('B_TOWNDOWN', 'B_TAX'):\t-1.08e-05\t-0.238\t1.22\t0.224\t-9.81e-06\t-0.228\t1.22\t0.223\n",
      "('B_TOWNMID', 'B_DRY'):\t6.95e-05\t0.137\t7.09\t1.32e-12\t8.27e-05\t0.165\t7.25\t4.18e-13\n",
      "('B_TOWNMID', 'B_ECO'):\t-1.35e-05\t-0.245\t1.45\t0.146\t-1.2e-05\t-0.225\t1.47\t0.142\n",
      "('B_TOWNMID', 'B_NZONE1'):\t1.31e-05\t0.117\t4.51\t6.53e-06\t1.3e-05\t0.116\t4.54\t5.55e-06\n",
      "('B_TOWNMID', 'B_NZONE2'):\t1.26e-05\t0.0871\t3.7\t0.000215\t1.41e-05\t0.0982\t3.74\t0.000186\n",
      "('B_TOWNMID', 'B_NZONE3'):\t-1.21e-06\t-0.00812\t3.42\t0.000625\t-1.66e-06\t-0.0113\t3.44\t0.000573\n",
      "('B_TOWNMID', 'B_REC'):\t-2.16e-06\t-0.151\t2.57\t0.0103\t-2.34e-06\t-0.166\t2.59\t0.00971\n",
      "('B_TOWNMID', 'B_TAX'):\t-5.95e-06\t-0.134\t3.39\t0.000697\t-3.66e-06\t-0.0881\t3.43\t0.000608\n",
      "('B_TOWNMID', 'B_TOWNDOWN'):\t0.000301\t0.402\t1.94\t0.052\t0.000284\t0.383\t1.92\t0.0546\n",
      "('B_TOWNUP', 'B_DRY'):\t7.21e-05\t0.128\t8.38\t0\t8.7e-05\t0.157\t8.57\t0\n",
      "('B_TOWNUP', 'B_ECO'):\t-1.38e-05\t-0.226\t3.31\t0.000947\t-1.23e-05\t-0.208\t3.34\t0.000836\n",
      "('B_TOWNUP', 'B_NZONE1'):\t2.29e-05\t0.183\t6.17\t6.94e-10\t2.35e-05\t0.19\t6.23\t4.68e-10\n",
      "('B_TOWNUP', 'B_NZONE2'):\t2.27e-05\t0.142\t5.42\t5.84e-08\t2.23e-05\t0.141\t5.47\t4.47e-08\n",
      "('B_TOWNUP', 'B_NZONE3'):\t1.03e-05\t0.0627\t5.15\t2.57e-07\t9.09e-06\t0.0558\t5.19\t2.08e-07\n",
      "('B_TOWNUP', 'B_REC'):\t-1.84e-06\t-0.116\t4.34\t1.43e-05\t-1.75e-06\t-0.112\t4.38\t1.19e-05\n",
      "('B_TOWNUP', 'B_TAX'):\t-4.75e-06\t-0.0968\t5.08\t3.75e-07\t-2.24e-06\t-0.0486\t5.14\t2.72e-07\n",
      "('B_TOWNUP', 'B_TOWNDOWN'):\t0.000342\t0.411\t3.79\t0.00015\t0.00032\t0.389\t3.74\t0.000183\n",
      "('B_TOWNUP', 'B_TOWNMID'):\t0.000357\t0.441\t2.01\t0.0447\t0.000346\t0.435\t2.01\t0.0441\n",
      "('mu', 'B_DRY'):\t-0.196\t-0.249\t0.135\t0.893\t-0.143\t-0.202\t0.149\t0.882\n",
      "('mu', 'B_ECO'):\t-0.0381\t-0.445\t0.131\t0.896\t-0.0281\t-0.371\t0.144\t0.885\n",
      "('mu', 'B_NZONE1'):\t0.0217\t0.124\t0.133\t0.894\t0.0271\t0.171\t0.146\t0.884\n",
      "('mu', 'B_NZONE2'):\t-0.039\t-0.174\t0.132\t0.895\t-0.0345\t-0.17\t0.146\t0.884\n",
      "('mu', 'B_NZONE3'):\t0.0302\t0.131\t0.132\t0.895\t0.028\t0.134\t0.146\t0.884\n",
      "('mu', 'B_REC'):\t0.0024\t0.108\t0.131\t0.895\t0.00149\t0.0741\t0.145\t0.885\n",
      "('mu', 'B_TAX'):\t-0.0414\t-0.603\t0.132\t0.895\t-0.0308\t-0.524\t0.146\t0.884\n",
      "('mu', 'B_TOWNDOWN'):\t0.294\t0.253\t0.131\t0.896\t0.251\t0.238\t0.145\t0.885\n",
      "('mu', 'B_TOWNMID'):\t0.199\t0.176\t0.13\t0.897\t0.13\t0.127\t0.143\t0.886\n",
      "('mu', 'B_TOWNUP'):\t0.162\t0.13\t0.128\t0.898\t0.0948\t0.084\t0.142\t0.887\n",
      "\n"
     ]
    }
   ],
   "source": [
    "biogeme.createLogFile()\n",
    "\n",
    "results = biogeme.estimate()\n",
    "\n",
    "# Get the results in a pandas table\n",
    "pandasResults = results.getEstimatedParameters()\n",
    "print(pandasResults)\n",
    "\n",
    "biogeme.modelName = \"03logit_rrm_0428\"\n",
    "\n",
    "\n",
    "print(\"Results=\",results)"
   ]
  },
  {
   "cell_type": "code",
   "execution_count": null,
   "metadata": {},
   "outputs": [],
   "source": []
  },
  {
   "cell_type": "code",
   "execution_count": null,
   "metadata": {},
   "outputs": [],
   "source": []
  }
 ],
 "metadata": {
  "kernelspec": {
   "display_name": "Python 3",
   "language": "python",
   "name": "python3"
  },
  "language_info": {
   "codemirror_mode": {
    "name": "ipython",
    "version": 3
   },
   "file_extension": ".py",
   "mimetype": "text/x-python",
   "name": "python",
   "nbconvert_exporter": "python",
   "pygments_lexer": "ipython3",
   "version": "3.7.4"
  }
 },
 "nbformat": 4,
 "nbformat_minor": 2
}
